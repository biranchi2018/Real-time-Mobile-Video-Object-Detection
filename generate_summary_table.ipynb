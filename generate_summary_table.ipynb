{
 "cells": [
  {
   "cell_type": "code",
   "execution_count": 1,
   "metadata": {},
   "outputs": [],
   "source": [
    "from PIL import Image, ImageDraw\n",
    "from matplotlib.pyplot import imshow\n",
    "import pandas as pd\n",
    "import numpy as np\n",
    "%matplotlib inline"
   ]
  },
  {
   "cell_type": "code",
   "execution_count": 2,
   "metadata": {},
   "outputs": [],
   "source": [
    "n_rows = 200000 # Due to data quality, we only read first 2m rows\n",
    "n_sample = 200000\n",
    "category_path = \"./data/Anno/list_category_cloth.txt\"\n",
    "img_path = \"./data/Anno/list_category_img.txt\"\n",
    "bbox_path = \"./data/Anno/list_bbox.txt\"\n",
    "partition_path = \"./data/Eval/list_eval_partition.txt\"\n",
    "train_path = \"./data/train_labels.csv\"\n",
    "test_path = \"./data/test_labels.csv\""
   ]
  },
  {
   "cell_type": "code",
   "execution_count": 3,
   "metadata": {},
   "outputs": [],
   "source": [
    "# Load cloth label and category mapping table\n",
    "dt_category = pd.read_csv(category_path, sep=r'\\s{1,}', skiprows=1, engine='python')\n",
    "# Create category labels \n",
    "dt_category['category_label'] = np.arange(len(dt_category))+1\n",
    "\n",
    "# Load image to category label mapping table\n",
    "dt_img = pd.read_csv(img_path, sep=r'\\s{1,}', skiprows=2, engine='python', header=None, \n",
    "                     nrows = n_rows, names=['image_name', 'category_label'])\n",
    "\n",
    "# Load bounding box labels\n",
    "dt_bbox = pd.read_csv(bbox_path, sep=r'\\s{1,}', skiprows=2, engine='python', header=None, \n",
    "                      nrows = n_rows, names=['image_name', 'x_1', 'y_1', 'x_2', 'y_2'])\n",
    "\n",
    "# Load train, test, eval partition list\n",
    "dt_partition = pd.read_csv(partition_path, skiprows=2, sep=r'\\s{2,}', engine='python', header=None, \n",
    "                           nrows = n_rows, names=['image_name', 'evaluation_status'])"
   ]
  },
  {
   "cell_type": "code",
   "execution_count": 4,
   "metadata": {},
   "outputs": [],
   "source": [
    "# Create a summary table with following fields for training\n",
    "# evaluation_status: train, test, eval\n",
    "# filename: image file path\n",
    "# class: image categories\n",
    "# xmin: x coordinate of top left point of bounding box\n",
    "# ymin: y coordinate of top left point of bounding box\n",
    "# xmax: x coordinate of bottom right point of bounding box\n",
    "# ymax: y coordinate of bottom right point of bounding box\n",
    "dt_main = pd.merge(dt_partition, dt_bbox, left_on='image_name', right_on='image_name', how='inner')\n",
    "dt_main = pd.merge(dt_main, dt_img, left_on='image_name', right_on='image_name', how='inner')\n",
    "dt_main = pd.merge(dt_main, dt_category, left_on='category_label', right_on='category_label', how='inner')\n",
    "# Only include top categories\n",
    "dt_main = dt_main[dt_main.category_name.isin(['Blouse', 'Shorts', 'Skirt', 'Sweater', 'Tank', 'Tee'])]"
   ]
  },
  {
   "cell_type": "code",
   "execution_count": 5,
   "metadata": {},
   "outputs": [
    {
     "data": {
      "text/html": [
       "<div>\n",
       "<style scoped>\n",
       "    .dataframe tbody tr th:only-of-type {\n",
       "        vertical-align: middle;\n",
       "    }\n",
       "\n",
       "    .dataframe tbody tr th {\n",
       "        vertical-align: top;\n",
       "    }\n",
       "\n",
       "    .dataframe thead th {\n",
       "        text-align: right;\n",
       "    }\n",
       "</style>\n",
       "<table border=\"1\" class=\"dataframe\">\n",
       "  <thead>\n",
       "    <tr style=\"text-align: right;\">\n",
       "      <th></th>\n",
       "      <th>evaluation_status</th>\n",
       "      <th>filename</th>\n",
       "      <th>class</th>\n",
       "      <th>xmin</th>\n",
       "      <th>ymin</th>\n",
       "      <th>xmax</th>\n",
       "      <th>ymax</th>\n",
       "    </tr>\n",
       "  </thead>\n",
       "  <tbody>\n",
       "    <tr>\n",
       "      <td>0</td>\n",
       "      <td>train</td>\n",
       "      <td>img/Texture-Striped_Mini_Skirt/img_00000042.jpg</td>\n",
       "      <td>Skirt</td>\n",
       "      <td>28</td>\n",
       "      <td>105</td>\n",
       "      <td>123</td>\n",
       "      <td>181</td>\n",
       "    </tr>\n",
       "    <tr>\n",
       "      <td>1</td>\n",
       "      <td>train</td>\n",
       "      <td>img/Striped_Crew_Neck_Tee/img_00000021.jpg</td>\n",
       "      <td>Tee</td>\n",
       "      <td>1</td>\n",
       "      <td>4</td>\n",
       "      <td>200</td>\n",
       "      <td>250</td>\n",
       "    </tr>\n",
       "    <tr>\n",
       "      <td>2</td>\n",
       "      <td>train</td>\n",
       "      <td>img/Striped_V-Neck_Jersey_Tee/img_00000045.jpg</td>\n",
       "      <td>Tee</td>\n",
       "      <td>1</td>\n",
       "      <td>1</td>\n",
       "      <td>300</td>\n",
       "      <td>300</td>\n",
       "    </tr>\n",
       "    <tr>\n",
       "      <td>3</td>\n",
       "      <td>train</td>\n",
       "      <td>img/Heart_Print_Boxy_Tee/img_00000036.jpg</td>\n",
       "      <td>Tee</td>\n",
       "      <td>85</td>\n",
       "      <td>91</td>\n",
       "      <td>237</td>\n",
       "      <td>242</td>\n",
       "    </tr>\n",
       "    <tr>\n",
       "      <td>4</td>\n",
       "      <td>train</td>\n",
       "      <td>img/TMNT_Graphic_Tee/img_00000068.jpg</td>\n",
       "      <td>Tee</td>\n",
       "      <td>122</td>\n",
       "      <td>3</td>\n",
       "      <td>300</td>\n",
       "      <td>187</td>\n",
       "    </tr>\n",
       "  </tbody>\n",
       "</table>\n",
       "</div>"
      ],
      "text/plain": [
       "  evaluation_status                                         filename  class  \\\n",
       "0             train  img/Texture-Striped_Mini_Skirt/img_00000042.jpg  Skirt   \n",
       "1             train       img/Striped_Crew_Neck_Tee/img_00000021.jpg    Tee   \n",
       "2             train   img/Striped_V-Neck_Jersey_Tee/img_00000045.jpg    Tee   \n",
       "3             train        img/Heart_Print_Boxy_Tee/img_00000036.jpg    Tee   \n",
       "4             train            img/TMNT_Graphic_Tee/img_00000068.jpg    Tee   \n",
       "\n",
       "   xmin  ymin  xmax  ymax  \n",
       "0    28   105   123   181  \n",
       "1     1     4   200   250  \n",
       "2     1     1   300   300  \n",
       "3    85    91   237   242  \n",
       "4   122     3   300   187  "
      ]
     },
     "execution_count": 5,
     "metadata": {},
     "output_type": "execute_result"
    }
   ],
   "source": [
    "# Get a sample of all images\n",
    "dt_sample = dt_main.sample(n=n_sample).reset_index()\n",
    "dt_sample = dt_sample[['evaluation_status', 'image_name', 'category_name', 'x_1','y_1','x_2','y_2']]\n",
    "dt_sample.columns = ['evaluation_status','filename','class','xmin', 'ymin', 'xmax','ymax']\n",
    "dt_sample.head()"
   ]
  },
  {
   "cell_type": "code",
   "execution_count": 6,
   "metadata": {
    "scrolled": true
   },
   "outputs": [
    {
     "data": {
      "text/plain": [
       "<matplotlib.image.AxesImage at 0x7fa589ce9ef0>"
      ]
     },
     "execution_count": 6,
     "metadata": {},
     "output_type": "execute_result"
    },
    {
     "data": {
      "image/png": "[encoded data removed]",
      "text/plain": [
       "<Figure size 432x288 with 1 Axes>"
      ]
     },
     "metadata": {
      "needs_background": "light"
     },
     "output_type": "display_data"
    }
   ],
   "source": [
    "# Inspect images and bounding box \n",
    "img_idx = np.random.randint(dt_sample.shape[0])\n",
    "img_path = './data/' + dt_sample['filename'][img_idx]\n",
    "source_img = Image.open(img_path)\n",
    "draw = ImageDraw.Draw(source_img)\n",
    "draw.rectangle(((int(dt_sample['xmin'][img_idx]), int(dt_sample['ymin'][img_idx])), \n",
    "                (int(dt_sample['xmax'][img_idx]), int(dt_sample['ymax'][img_idx]))), \n",
    "               outline='red')\n",
    "draw.text((int(dt_sample['xmin'][img_idx])+5, int(dt_sample['ymin'][img_idx])+5), \n",
    "          dt_sample['class'][img_idx], fill='red')\n",
    "del draw\n",
    "imshow(np.asarray(source_img))"
   ]
  },
  {
   "cell_type": "code",
   "execution_count": 7,
   "metadata": {},
   "outputs": [],
   "source": [
    "# Export training & test summary tables\n",
    "dt_sample[dt_sample.evaluation_status == 'train'].to_csv(train_path, index = False, header = True)\n",
    "dt_sample[dt_sample.evaluation_status != 'train'].to_csv(test_path, index = False, header = True)"
   ]
  }
 ],
 "metadata": {
  "kernelspec": {
   "display_name": "Python 3",
   "language": "python",
   "name": "python3"
  },
  "language_info": {
   "codemirror_mode": {
    "name": "ipython",
    "version": 3
   },
   "file_extension": ".py",
   "mimetype": "text/x-python",
   "name": "python",
   "nbconvert_exporter": "python",
   "pygments_lexer": "ipython3",
   "version": "3.7.4"
  }
 },
 "nbformat": 4,
 "nbformat_minor": 2
}
